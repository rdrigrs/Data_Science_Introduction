{
 "cells": [
  {
   "cell_type": "markdown",
   "metadata": {
    "id": "_tzD41xqHomA"
   },
   "source": [
    "# 1. Implementação da Função para Seleção dos k Vizinhos Mais Próximos:\n",
    "   - Desenvolva uma função que selecione os k vizinhos mais próximos para uma determinada amostra, onde k é maior que 1.\n"
   ]
  },
  {
   "cell_type": "code",
   "execution_count": 41,
   "metadata": {
    "id": "WqIlFzAlEH5l"
   },
   "outputs": [],
   "source": [
    "import numpy as np\n",
    "\n",
    "def knn(sample, data, k):\n",
    "  if k <= 1:\n",
    "    raise ValueError(\"O valor de k deve ser maior que 1.\")\n",
    "\n",
    "  # Euclidian distance:\n",
    "  distances = np.linalg.norm(data - sample, axis=1)\n",
    "\n",
    "  nearest_neighbors = np.argsort(distances)[:k]\n",
    "\n",
    "  return nearest_neighbors\n"
   ]
  },
  {
   "cell_type": "markdown",
   "metadata": {
    "id": "HyaNSZUjJh5T"
   },
   "source": [
    "# 2. Classificação com Base nos k Vizinhos Mais Próximos:\n",
    " - Crie uma função que utilize os k vizinhos mais próximos para determinar a classe correta de uma amostra."
   ]
  },
  {
   "cell_type": "code",
   "execution_count": 42,
   "metadata": {
    "id": "_CMy43ZlJqTd"
   },
   "outputs": [],
   "source": [
    "def classify_knn(sample, data, labels, k):\n",
    "  nearest_neighbors = knn(sample, data, k)\n",
    "  neighbor_labels = labels[nearest_neighbors]\n",
    "  predicted_class = np.argmax(np.bincount(neighbor_labels))\n",
    "  return predicted_class"
   ]
  },
  {
   "cell_type": "markdown",
   "metadata": {
    "id": "zheOhk-5OyWN"
   },
   "source": [
    "# 3. Transformação de Features Categóricas em Numéricas:\n",
    "- Converta as features categóricas em numéricas utilizando bibliotecas como pandas ou scikit-learn."
   ]
  },
  {
   "cell_type": "code",
   "execution_count": 43,
   "metadata": {
    "id": "3r1j1VfsO5UJ"
   },
   "outputs": [
    {
     "name": "stdout",
     "output_type": "stream",
     "text": [
      "       PassengerId    Survived      Pclass         Sex         Age  \\\n",
      "count   891.000000  891.000000  891.000000  891.000000  714.000000   \n",
      "mean    446.000000    0.383838    2.308642    0.647587   29.699118   \n",
      "std     257.353842    0.486592    0.836071    0.477990   14.526497   \n",
      "min       1.000000    0.000000    1.000000    0.000000    0.420000   \n",
      "25%     223.500000    0.000000    2.000000    0.000000   20.125000   \n",
      "50%     446.000000    0.000000    3.000000    1.000000   28.000000   \n",
      "75%     668.500000    1.000000    3.000000    1.000000   38.000000   \n",
      "max     891.000000    1.000000    3.000000    1.000000   80.000000   \n",
      "\n",
      "            SibSp       Parch        Fare    Embarked  \n",
      "count  891.000000  891.000000  891.000000  891.000000  \n",
      "mean     0.523008    0.381594   32.204208    1.538721  \n",
      "std      1.102743    0.806057   49.693429    0.794231  \n",
      "min      0.000000    0.000000    0.000000    0.000000  \n",
      "25%      0.000000    0.000000    7.910400    1.000000  \n",
      "50%      0.000000    0.000000   14.454200    2.000000  \n",
      "75%      1.000000    0.000000   31.000000    2.000000  \n",
      "max      8.000000    6.000000  512.329200    3.000000  \n",
      "     PassengerId  Survived  Pclass  \\\n",
      "0              1         0       3   \n",
      "1              2         1       1   \n",
      "2              3         1       3   \n",
      "3              4         1       1   \n",
      "4              5         0       3   \n",
      "..           ...       ...     ...   \n",
      "886          887         0       2   \n",
      "887          888         1       1   \n",
      "888          889         0       3   \n",
      "889          890         1       1   \n",
      "890          891         0       3   \n",
      "\n",
      "                                                  Name     Sex   Age  SibSp  \\\n",
      "0                              Braund, Mr. Owen Harris    male  22.0      1   \n",
      "1    Cumings, Mrs. John Bradley (Florence Briggs Th...  female  38.0      1   \n",
      "2                               Heikkinen, Miss. Laina  female  26.0      0   \n",
      "3         Futrelle, Mrs. Jacques Heath (Lily May Peel)  female  35.0      1   \n",
      "4                             Allen, Mr. William Henry    male  35.0      0   \n",
      "..                                                 ...     ...   ...    ...   \n",
      "886                              Montvila, Rev. Juozas    male  27.0      0   \n",
      "887                       Graham, Miss. Margaret Edith  female  19.0      0   \n",
      "888           Johnston, Miss. Catherine Helen \"Carrie\"  female   NaN      1   \n",
      "889                              Behr, Mr. Karl Howell    male  26.0      0   \n",
      "890                                Dooley, Mr. Patrick    male  32.0      0   \n",
      "\n",
      "     Parch            Ticket     Fare Cabin Embarked  \n",
      "0        0         A/5 21171   7.2500   NaN        S  \n",
      "1        0          PC 17599  71.2833   C85        C  \n",
      "2        0  STON/O2. 3101282   7.9250   NaN        S  \n",
      "3        0            113803  53.1000  C123        S  \n",
      "4        0            373450   8.0500   NaN        S  \n",
      "..     ...               ...      ...   ...      ...  \n",
      "886      0            211536  13.0000   NaN        S  \n",
      "887      0            112053  30.0000   B42        S  \n",
      "888      2        W./C. 6607  23.4500   NaN        S  \n",
      "889      0            111369  30.0000  C148        C  \n",
      "890      0            370376   7.7500   NaN        Q  \n",
      "\n",
      "[891 rows x 12 columns]\n"
     ]
    }
   ],
   "source": [
    "import pandas as pd\n",
    "\n",
    "df_origin = pd.read_csv('titanic/train.csv')\n",
    "df_test = pd.read_csv('titanic/test.csv')\n",
    "df_target = pd.read_csv('titanic/gender_submission.csv')\n",
    "print(df.describe())\n",
    "print(df_origin)"
   ]
  },
  {
   "cell_type": "code",
   "execution_count": 46,
   "metadata": {},
   "outputs": [
    {
     "name": "stdout",
     "output_type": "stream",
     "text": [
      "     PassengerId  Survived  Pclass  Sex   Age  SibSp  Parch     Fare  Embarked\n",
      "0              1         0       3    1  22.0      1      0   7.2500         2\n",
      "1              2         1       1    0  38.0      1      0  71.2833         0\n",
      "2              3         1       3    0  26.0      0      0   7.9250         2\n",
      "3              4         1       1    0  35.0      1      0  53.1000         2\n",
      "4              5         0       3    1  35.0      0      0   8.0500         2\n",
      "..           ...       ...     ...  ...   ...    ...    ...      ...       ...\n",
      "886          887         0       2    1  27.0      0      0  13.0000         2\n",
      "887          888         1       1    0  19.0      0      0  30.0000         2\n",
      "888          889         0       3    0   NaN      1      2  23.4500         2\n",
      "889          890         1       1    1  26.0      0      0  30.0000         0\n",
      "890          891         0       3    1  32.0      0      0   7.7500         1\n",
      "\n",
      "[891 rows x 9 columns]\n"
     ]
    }
   ],
   "source": [
    "from sklearn.preprocessing import LabelEncoder\n",
    "\n",
    "le = LabelEncoder()\n",
    "\n",
    "df_num = df_origin.drop(columns=['Name', 'Cabin', 'Ticket'])\n",
    "df_num = df_num.dropna(subset=['Sex'])\n",
    "df_num['Sex'] = le.fit_transform(df_num['Sex'])\n",
    "df_num['Embarked'] = le.fit_transform(df_num['Embarked'])\n",
    "print(df_num)\n"
   ]
  },
  {
   "cell_type": "markdown",
   "metadata": {},
   "source": [
    "# 4. Análise da Necessidade de Normalização das Features Numéricas:\n",
    " - Avalie a necessidade de normalizar as features numéricas para melhorar o desempenho do classificador"
   ]
  },
  {
   "cell_type": "code",
   "execution_count": 51,
   "metadata": {},
   "outputs": [
    {
     "name": "stdout",
     "output_type": "stream",
     "text": [
      "     PassengerId  Survived  Pclass  Sex       Age  SibSp  Parch      Fare  \\\n",
      "0       0.000000       0.0     1.0  1.0  0.271174      1      0  0.014151   \n",
      "1       0.001124       1.0     0.0  0.0  0.472229      1      0  0.139136   \n",
      "2       0.002247       1.0     1.0  0.0  0.321438      0      0  0.015469   \n",
      "3       0.003371       1.0     0.0  0.0  0.434531      1      0  0.103644   \n",
      "4       0.004494       0.0     1.0  1.0  0.434531      0      0  0.015713   \n",
      "..           ...       ...     ...  ...       ...    ...    ...       ...   \n",
      "886     0.995506       0.0     0.5  1.0  0.334004      0      0  0.025374   \n",
      "887     0.996629       1.0     0.0  0.0  0.233476      0      0  0.058556   \n",
      "888     0.997753       0.0     1.0  0.0       NaN      1      2  0.045771   \n",
      "889     0.998876       1.0     0.0  1.0  0.321438      0      0  0.058556   \n",
      "890     1.000000       0.0     1.0  1.0  0.396833      0      0  0.015127   \n",
      "\n",
      "     Embarked  \n",
      "0           2  \n",
      "1           0  \n",
      "2           2  \n",
      "3           2  \n",
      "4           2  \n",
      "..        ...  \n",
      "886         2  \n",
      "887         2  \n",
      "888         2  \n",
      "889         0  \n",
      "890         1  \n",
      "\n",
      "[891 rows x 9 columns]\n"
     ]
    }
   ],
   "source": [
    "from sklearn.preprocessing import MinMaxScaler\n",
    "\n",
    "scaler = MinMaxScaler()\n",
    "\n",
    "df_norm = pd.DataFrame(scaler.fit_transform(df), columns=df_num.columns)\n",
    "df_norm['Embarked'] = le.fit_transform(df_norm['Embarked'])\n",
    "df_norm['SibSp'] = le.fit_transform(df_norm['SibSp'])\n",
    "df_norm['Parch'] = le.fit_transform(df_norm['Parch'])\n",
    "\n",
    "print(df_norm)"
   ]
  },
  {
   "cell_type": "markdown",
   "metadata": {},
   "source": [
    "# 5. Seleção de Features com Base na Correlação:\n",
    " - Utilize técnicas de correlação para selecionar as features mais relevantes para o modelo.\r\n"
   ]
  },
  {
   "cell_type": "code",
   "execution_count": null,
   "metadata": {},
   "outputs": [],
   "source": []
  }
 ],
 "metadata": {
  "colab": {
   "provenance": []
  },
  "kernelspec": {
   "display_name": "Python 3 (ipykernel)",
   "language": "python",
   "name": "python3"
  },
  "language_info": {
   "codemirror_mode": {
    "name": "ipython",
    "version": 3
   },
   "file_extension": ".py",
   "mimetype": "text/x-python",
   "name": "python",
   "nbconvert_exporter": "python",
   "pygments_lexer": "ipython3",
   "version": "3.12.4"
  }
 },
 "nbformat": 4,
 "nbformat_minor": 4
}
